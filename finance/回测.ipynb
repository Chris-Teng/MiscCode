{
 "cells": [
  {
   "cell_type": "markdown",
   "id": "09689b63",
   "metadata": {},
   "source": [
    "# 使用numpy和pandas操作股票数据"
   ]
  },
  {
   "cell_type": "code",
   "execution_count": 4,
   "id": "c91b18c8",
   "metadata": {},
   "outputs": [],
   "source": [
    "import pandas as pd\n",
    "import numpy as np\n",
    "import matplotlib.pyplot as plt\n",
    "import warnings\n",
    "from random import randint\n",
    "warnings.filterwarnings(\"ignore\")"
   ]
  },
  {
   "cell_type": "code",
   "execution_count": 5,
   "id": "f22f5201",
   "metadata": {
    "scrolled": false
   },
   "outputs": [
    {
     "name": "stdout",
     "output_type": "stream",
     "text": [
      "<class 'pandas.core.frame.DataFrame'>\n",
      "RangeIndex: 1715 entries, 0 to 1714\n",
      "Data columns (total 7 columns):\n",
      " #   Column  Non-Null Count  Dtype         \n",
      "---  ------  --------------  -----         \n",
      " 0   日期      1715 non-null   datetime64[ns]\n",
      " 1   收盘      1715 non-null   float64       \n",
      " 2   开盘      1715 non-null   float64       \n",
      " 3   高       1715 non-null   float64       \n",
      " 4   低       1715 non-null   float64       \n",
      " 5   交易量     1715 non-null   object        \n",
      " 6   涨跌幅     1715 non-null   object        \n",
      "dtypes: datetime64[ns](1), float64(4), object(2)\n",
      "memory usage: 93.9+ KB\n"
     ]
    },
    {
     "data": {
      "text/html": [
       "<div>\n",
       "<style scoped>\n",
       "    .dataframe tbody tr th:only-of-type {\n",
       "        vertical-align: middle;\n",
       "    }\n",
       "\n",
       "    .dataframe tbody tr th {\n",
       "        vertical-align: top;\n",
       "    }\n",
       "\n",
       "    .dataframe thead th {\n",
       "        text-align: right;\n",
       "    }\n",
       "</style>\n",
       "<table border=\"1\" class=\"dataframe\">\n",
       "  <thead>\n",
       "    <tr style=\"text-align: right;\">\n",
       "      <th></th>\n",
       "      <th>日期</th>\n",
       "      <th>收盘</th>\n",
       "      <th>开盘</th>\n",
       "      <th>高</th>\n",
       "      <th>低</th>\n",
       "      <th>交易量</th>\n",
       "      <th>涨跌幅</th>\n",
       "    </tr>\n",
       "  </thead>\n",
       "  <tbody>\n",
       "    <tr>\n",
       "      <th>0</th>\n",
       "      <td>2015-02-10</td>\n",
       "      <td>3.40</td>\n",
       "      <td>3.34</td>\n",
       "      <td>3.40</td>\n",
       "      <td>3.33</td>\n",
       "      <td>1.39B</td>\n",
       "      <td>2.01%</td>\n",
       "    </tr>\n",
       "    <tr>\n",
       "      <th>1</th>\n",
       "      <td>2015-02-11</td>\n",
       "      <td>3.42</td>\n",
       "      <td>3.40</td>\n",
       "      <td>3.43</td>\n",
       "      <td>3.40</td>\n",
       "      <td>1.19B</td>\n",
       "      <td>0.65%</td>\n",
       "    </tr>\n",
       "    <tr>\n",
       "      <th>2</th>\n",
       "      <td>2015-02-12</td>\n",
       "      <td>3.43</td>\n",
       "      <td>3.42</td>\n",
       "      <td>3.45</td>\n",
       "      <td>3.39</td>\n",
       "      <td>778.51M</td>\n",
       "      <td>0.41%</td>\n",
       "    </tr>\n",
       "    <tr>\n",
       "      <th>3</th>\n",
       "      <td>2015-02-13</td>\n",
       "      <td>3.46</td>\n",
       "      <td>3.44</td>\n",
       "      <td>3.50</td>\n",
       "      <td>3.44</td>\n",
       "      <td>1.08B</td>\n",
       "      <td>0.64%</td>\n",
       "    </tr>\n",
       "    <tr>\n",
       "      <th>4</th>\n",
       "      <td>2015-02-16</td>\n",
       "      <td>3.49</td>\n",
       "      <td>3.46</td>\n",
       "      <td>3.49</td>\n",
       "      <td>3.45</td>\n",
       "      <td>842.16M</td>\n",
       "      <td>0.84%</td>\n",
       "    </tr>\n",
       "    <tr>\n",
       "      <th>...</th>\n",
       "      <td>...</td>\n",
       "      <td>...</td>\n",
       "      <td>...</td>\n",
       "      <td>...</td>\n",
       "      <td>...</td>\n",
       "      <td>...</td>\n",
       "      <td>...</td>\n",
       "    </tr>\n",
       "    <tr>\n",
       "      <th>1710</th>\n",
       "      <td>2022-02-24</td>\n",
       "      <td>4.53</td>\n",
       "      <td>4.59</td>\n",
       "      <td>4.60</td>\n",
       "      <td>4.49</td>\n",
       "      <td>591.24M</td>\n",
       "      <td>-1.84%</td>\n",
       "    </tr>\n",
       "    <tr>\n",
       "      <th>1711</th>\n",
       "      <td>2022-02-25</td>\n",
       "      <td>4.57</td>\n",
       "      <td>4.55</td>\n",
       "      <td>4.61</td>\n",
       "      <td>4.55</td>\n",
       "      <td>384.47M</td>\n",
       "      <td>0.77%</td>\n",
       "    </tr>\n",
       "    <tr>\n",
       "      <th>1712</th>\n",
       "      <td>2022-02-28</td>\n",
       "      <td>4.57</td>\n",
       "      <td>4.56</td>\n",
       "      <td>4.57</td>\n",
       "      <td>4.52</td>\n",
       "      <td>269.32M</td>\n",
       "      <td>0.13%</td>\n",
       "    </tr>\n",
       "    <tr>\n",
       "      <th>1713</th>\n",
       "      <td>2022-03-01</td>\n",
       "      <td>4.61</td>\n",
       "      <td>4.59</td>\n",
       "      <td>4.62</td>\n",
       "      <td>4.57</td>\n",
       "      <td>326.16M</td>\n",
       "      <td>0.83%</td>\n",
       "    </tr>\n",
       "    <tr>\n",
       "      <th>1714</th>\n",
       "      <td>2022-03-02</td>\n",
       "      <td>4.56</td>\n",
       "      <td>4.59</td>\n",
       "      <td>4.59</td>\n",
       "      <td>4.55</td>\n",
       "      <td>83.66M</td>\n",
       "      <td>-1.06%</td>\n",
       "    </tr>\n",
       "  </tbody>\n",
       "</table>\n",
       "<p>1715 rows × 7 columns</p>\n",
       "</div>"
      ],
      "text/plain": [
       "             日期    收盘    开盘     高     低      交易量     涨跌幅\n",
       "0    2015-02-10  3.40  3.34  3.40  3.33    1.39B   2.01%\n",
       "1    2015-02-11  3.42  3.40  3.43  3.40    1.19B   0.65%\n",
       "2    2015-02-12  3.43  3.42  3.45  3.39  778.51M   0.41%\n",
       "3    2015-02-13  3.46  3.44  3.50  3.44    1.08B   0.64%\n",
       "4    2015-02-16  3.49  3.46  3.49  3.45  842.16M   0.84%\n",
       "...         ...   ...   ...   ...   ...      ...     ...\n",
       "1710 2022-02-24  4.53  4.59  4.60  4.49  591.24M  -1.84%\n",
       "1711 2022-02-25  4.57  4.55  4.61  4.55  384.47M   0.77%\n",
       "1712 2022-02-28  4.57  4.56  4.57  4.52  269.32M   0.13%\n",
       "1713 2022-03-01  4.61  4.59  4.62  4.57  326.16M   0.83%\n",
       "1714 2022-03-02  4.56  4.59  4.59  4.55   83.66M  -1.06%\n",
       "\n",
       "[1715 rows x 7 columns]"
      ]
     },
     "execution_count": 5,
     "metadata": {},
     "output_type": "execute_result"
    }
   ],
   "source": [
    "df = pd.read_csv('510300.csv').iloc[::-1]\n",
    "df.index = df.index[::-1]\n",
    "df['日期'] = pd.to_datetime(df['日期'],format=\"%Y年%m月%d日\")\n",
    "df.info()\n",
    "df"
   ]
  },
  {
   "cell_type": "code",
   "execution_count": 6,
   "id": "913f81d5",
   "metadata": {
    "scrolled": true
   },
   "outputs": [
    {
     "data": {
      "text/plain": [
       "[<matplotlib.lines.Line2D at 0x1f3d595a490>]"
      ]
     },
     "execution_count": 6,
     "metadata": {},
     "output_type": "execute_result"
    },
    {
     "data": {
      "image/png": "[encoded data removed]",
      "text/plain": [
       "<Figure size 432x288 with 1 Axes>"
      ]
     },
     "metadata": {
      "needs_background": "light"
     },
     "output_type": "display_data"
    }
   ],
   "source": [
    "plt.plot(df[\"日期\"], df[\"收盘\"])"
   ]
  },
  {
   "cell_type": "code",
   "execution_count": 13,
   "id": "a1668ce1",
   "metadata": {},
   "outputs": [
    {
     "data": {
      "text/plain": [
       "[<matplotlib.lines.Line2D at 0x1f3d6207760>]"
      ]
     },
     "execution_count": 13,
     "metadata": {},
     "output_type": "execute_result"
    },
    {
     "data": {
      "image/png": "[encoded data removed]",
      "text/plain": [
       "<Figure size 432x288 with 1 Axes>"
      ]
     },
     "metadata": {
      "needs_background": "light"
     },
     "output_type": "display_data"
    }
   ],
   "source": [
    "plt.plot(df.index, df[\"收盘\"])"
   ]
  },
  {
   "cell_type": "markdown",
   "id": "6586f3f0",
   "metadata": {},
   "source": [
    "# 定投模型\n"
   ]
  },
  {
   "cell_type": "code",
   "execution_count": 19,
   "id": "ff2f6a39",
   "metadata": {},
   "outputs": [],
   "source": [
    "# 选取定投范围\n",
    "dateStart = 1000\n",
    "dateEnd = 1250"
   ]
  },
  {
   "cell_type": "code",
   "execution_count": 20,
   "id": "c9c09d48",
   "metadata": {},
   "outputs": [
    {
     "name": "stdout",
     "output_type": "stream",
     "text": [
      "从2019-03-22 00:00:00至2020-03-25 00:00:00，现价：3.71，共定投50次\n",
      "本金：50000\n",
      "份额：12834.942772714978\n",
      "市值：47617.63768677257\n",
      "定投收益率：-4.764724626454864%\n",
      "梭哈收益率：95.822454308094%\n"
     ]
    },
    {
     "data": {
      "image/png": "[encoded data removed]",
      "text/plain": [
       "<Figure size 432x288 with 1 Axes>"
      ]
     },
     "metadata": {
      "needs_background": "light"
     },
     "output_type": "display_data"
    }
   ],
   "source": [
    "# 默认每周定投一次\n",
    "def AutomaticInvestmentPlanWithFixedInterval(dateStart,dateEnd,capital=1000,interval=5):\n",
    "    totalCapital = 0 #总成本\n",
    "    share = 0.0 # 份额\n",
    "    chooce = [] #定投位置\n",
    "    ratioList = []\n",
    "    for now in range(dateStart,dateEnd,interval):\n",
    "        chooce.append(now)\n",
    "        totalCapital += capital\n",
    "        share += capital/df.iloc[now][\"收盘\"]\n",
    "        nowCaptital = share*df.iloc[now][\"收盘\"]\n",
    "        earningRatio = nowCaptital/totalCapital\n",
    "        \n",
    "        ratioList.append(earningRatio)\n",
    "    print(f'从{df.iloc[dateStart][\"日期\"]}至{df.iloc[now][\"日期\"]}，现价：{df.iloc[now][\"收盘\"]}，共定投{len(chooce)}次')\n",
    "    print(f'本金：{totalCapital}')\n",
    "    print(f'份额：{share}')\n",
    "    print(f'市值：{nowCaptital}')\n",
    "    print(f'定投收益率：{earningRatio*100-100}%')\n",
    "    print(f'梭哈收益率：{df.iloc[dateEnd][\"收盘\"]/df.iloc[dateStart][\"收盘\"]*100}%')\n",
    "    \n",
    "#     plt.plot(chooce,list(map(lambda x:x**2,ratioList)))\n",
    "#     plt.plot(df.iloc[dateStart:dateEnd].index,df.iloc[dateStart:dateEnd]['收盘'])\n",
    "#     c = np.random.rand(len(chooce))\n",
    "#     plt.scatter(chooce,list(map(lambda x:df.iloc[x][\"收盘\"],chooce)),c=c)\n",
    "#     plt.show()\n",
    "    # 解决中文显示问题\n",
    "    plt.rcParams['font.sans-serif'] = ['SimHei']\n",
    "    plt.rcParams['axes.unicode_minus'] = False\n",
    "    plt.title(\"以定投次数为横坐标、收益率为纵坐标展示定投收益率\")\n",
    "    plt.ylabel(\"earning ratio\")\n",
    "    plt.xlabel(\"count\")\n",
    "    plt.plot(chooce, ratioList)\n",
    "AutomaticInvestmentPlanWithFixedInterval(dateStart,dateEnd)"
   ]
  },
  {
   "cell_type": "markdown",
   "id": "5a9cfb19",
   "metadata": {},
   "source": [
    "# 网格模型"
   ]
  },
  {
   "cell_type": "markdown",
   "id": "6f63fb10",
   "metadata": {},
   "source": [
    "比较两套计算方案收益率\n",
    "1. 固定基准价：\n",
    "基准价固定，每次计算（基准价-现价）/基准价，如果达到条件则自动下单\n",
    "2. 变动基准价：\n",
    "基准价根据每次买入后的成本价格计算。\n",
    "比如初始价格为10，下跌10%到9，此时买入相同份额后计算成本价：\n",
    "假设成本价为9.5，按此价格再下跌10%，要比固定基准价购买时机更晚。"
   ]
  },
  {
   "cell_type": "code",
   "execution_count": 21,
   "id": "14be34b1",
   "metadata": {},
   "outputs": [
    {
     "name": "stdout",
     "output_type": "stream",
     "text": [
      "市值：100047.0\n",
      "盈利率：0.047%\n"
     ]
    }
   ],
   "source": [
    "# 固定成本\n",
    "def Grid(dateStart,dateEnd):\n",
    "    capital = 100000\n",
    "    oneHand = 100\n",
    "    upRatio = 0.05\n",
    "    downRatio = 0.05\n",
    "    \n",
    "    share = 0.0 # 份额\n",
    "    buyOn = [] # 买入位置\n",
    "    sellOn = [] # 卖出位置\n",
    "    ratioList = [] # 盈利率\n",
    "    basePrice = df.iloc[dateStart][\"收盘\"] # 确定初始基准价\n",
    "    \n",
    "    for now in range(dateStart,dateEnd):# 遍历每个时间点\n",
    "        nowPrice = df.iloc[now][\"收盘\"]\n",
    "        if nowPrice>basePrice and (nowPrice-basePrice)/basePrice>=upRatio and share>=oneHand:\n",
    "            share -= oneHand\n",
    "            capital += oneHand*nowPrice\n",
    "            upRatio += 0.05\n",
    "            downRatio = 0.05  #重置下跌时买入状态\n",
    "            buyOn.append(now)\n",
    "        elif nowPrice<basePrice and (basePrice-nowPrice)/basePrice>=downRatio:\n",
    "            share += oneHand\n",
    "            capital -= oneHand*nowPrice\n",
    "            downRatio += 0.05\n",
    "            upRatio = 0.05  #重置上涨时买入状态\n",
    "            sellOn.append(now)\n",
    "    print(f'市值：{capital+share*df.iloc[dateEnd][\"收盘\"]}')\n",
    "    print(f'盈利率：{(capital+share*df.iloc[dateEnd][\"收盘\"]-100000)/1000}%')\n",
    "Grid(dateStart,dateEnd)"
   ]
  },
  {
   "cell_type": "code",
   "execution_count": null,
   "id": "af0a433e",
   "metadata": {},
   "outputs": [],
   "source": []
  }
 ],
 "metadata": {
  "kernelspec": {
   "display_name": "Python 3 (ipykernel)",
   "language": "python",
   "name": "python3"
  },
  "language_info": {
   "codemirror_mode": {
    "name": "ipython",
    "version": 3
   },
   "file_extension": ".py",
   "mimetype": "text/x-python",
   "name": "python",
   "nbconvert_exporter": "python",
   "pygments_lexer": "ipython3",
   "version": "3.9.7"
  }
 },
 "nbformat": 4,
 "nbformat_minor": 5
}
